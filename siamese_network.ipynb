{
 "cells": [
  {
   "cell_type": "code",
   "execution_count": 10,
   "id": "b6d15200-4348-40ed-b568-0ae795ab4a57",
   "metadata": {},
   "outputs": [],
   "source": [
    "import cv2\n",
    "import os\n",
    "import random\n",
    "import numpy as np\n",
    "import tensorflow as tf\n",
    "import uuid"
   ]
  },
  {
   "cell_type": "code",
   "execution_count": 11,
   "id": "6231b6e2-a0d5-41da-a971-f6e81bcbb987",
   "metadata": {},
   "outputs": [],
   "source": [
    "from matplotlib import pyplot as plt\n",
    "from tensorflow.keras.models import Model\n",
    "from tensorflow.keras.layers import Layer, Conv2D, Dense, MaxPooling2D, Input, Flatten\n",
    "from tensorflow.keras.metrics import Precision, Recall"
   ]
  },
  {
   "cell_type": "code",
   "execution_count": 12,
   "id": "9a71c3ee-a185-424d-9258-4bcb35c09ce1",
   "metadata": {},
   "outputs": [],
   "source": [
    "# sets gpu growth\n",
    "gpus = tf.config.experimental.list_physical_devices('GPU')\n",
    "for gpu in gpus: \n",
    "    tf.config.experimental.set_memory_growth(gpu, True)"
   ]
  },
  {
   "cell_type": "code",
   "execution_count": 13,
   "id": "1b5ee333-e8af-42b3-9286-bf98d194bf75",
   "metadata": {},
   "outputs": [],
   "source": [
    "# gets data paths\n",
    "pos_path = os.path.join('data', 'positive')\n",
    "neg_path = os.path.join('data', 'negative')\n",
    "anc_path = os.path.join('data', 'anchor')"
   ]
  },
  {
   "cell_type": "code",
   "execution_count": 7,
   "id": "9508aa50-5515-4666-b921-3ce854153750",
   "metadata": {},
   "outputs": [],
   "source": [
    "# Collects images from webcam\n",
    "cap = cv2.VideoCapture(0)\n",
    "while cap.isOpened(): \n",
    "    ret, frame = cap.read()\n",
    "   \n",
    "    frame = frame[120:120+250,200:200+250, :]\n",
    "    \n",
    "    if cv2.waitKey(1) & 0XFF == ord('a'): \n",
    "        imgname = os.path.join(anc_path, '{}.jpg'.format(uuid.uuid1()))\n",
    "        cv2.imwrite(imgname, frame)\n",
    "    \n",
    "    if cv2.waitKey(1) & 0XFF == ord('p'):\n",
    "        imgname = os.path.join(pos_path, '{}.jpg'.format(uuid.uuid1()))\n",
    "        cv2.imwrite(imgname, frame)\n",
    "\n",
    "    cv2.imshow('Image Collection', frame)\n",
    "    \n",
    "    if cv2.waitKey(1) & 0XFF == ord('q'):\n",
    "        break\n",
    "        \n",
    "cap.release()\n",
    "\n",
    "cv2.destroyAllWindows()"
   ]
  },
  {
   "cell_type": "code",
   "execution_count": 14,
   "id": "1131cada-b9ba-4751-86bf-68a67f4a0557",
   "metadata": {},
   "outputs": [],
   "source": [
    "# set image directory paths, takes 300 images from each\n",
    "anchor = tf.data.Dataset.list_files(anc_path+'\\*.jpg').take(300)\n",
    "positive = tf.data.Dataset.list_files(pos_path+'\\*.jpg').take(300)\n",
    "negative = tf.data.Dataset.list_files(neg_path+'\\*.jpg').take(300)"
   ]
  },
  {
   "cell_type": "code",
   "execution_count": 15,
   "id": "bc5abc4c-345e-4581-b396-a2735f8d4360",
   "metadata": {},
   "outputs": [],
   "source": [
    "# loads, decodes, resizes/scales images\n",
    "def preprocess(file_path):\n",
    "    \n",
    "    byte_img = tf.io.read_file(file_path)\n",
    "    img = tf.io.decode_jpeg(byte_img)\n",
    "    \n",
    "    img = tf.image.resize(img, (100,100))\n",
    "    img = img / 255.0\n",
    "\n",
    "    return img"
   ]
  },
  {
   "cell_type": "code",
   "execution_count": 16,
   "id": "42c5297b-4330-489d-b100-15cbcb2c8262",
   "metadata": {},
   "outputs": [],
   "source": [
    "# creates labled data sets, 1 is positive 0 is negative\n",
    "positives = tf.data.Dataset.zip((anchor, positive, tf.data.Dataset.from_tensor_slices(tf.ones(len(anchor)))))\n",
    "negatives = tf.data.Dataset.zip((anchor, negative, tf.data.Dataset.from_tensor_slices(tf.zeros(len(anchor)))))\n",
    "data = positives.concatenate(negatives)"
   ]
  },
  {
   "cell_type": "code",
   "execution_count": 17,
   "id": "d0562d92-16f5-4b3c-b0e2-484cc93f0636",
   "metadata": {},
   "outputs": [],
   "source": [
    "# preprocesses all images\n",
    "def preprocess_twin(input_img, validation_img, label):\n",
    "    return(preprocess(input_img), preprocess(validation_img), label)"
   ]
  },
  {
   "cell_type": "code",
   "execution_count": 18,
   "id": "ecdf4172-f82c-4a52-a495-a1f7efea5133",
   "metadata": {},
   "outputs": [],
   "source": [
    "# dataloader pipeline\n",
    "data = data.map(preprocess_twin)\n",
    "data = data.cache()\n",
    "data = data.shuffle(buffer_size=1024)"
   ]
  },
  {
   "cell_type": "code",
   "execution_count": 19,
   "id": "b733e706-a205-4db4-a815-51d2365dee6c",
   "metadata": {},
   "outputs": [],
   "source": [
    "# partitions data for training\n",
    "train_data = data.take(round(len(data)*.7))\n",
    "train_data = train_data.batch(16)\n",
    "train_data = train_data.prefetch(8)"
   ]
  },
  {
   "cell_type": "code",
   "execution_count": 20,
   "id": "d72cc95c-d803-4ab8-9392-b07ed071c3a0",
   "metadata": {},
   "outputs": [],
   "source": [
    "# partitions data for testing\n",
    "test_data = data.skip(round(len(data)*.7))\n",
    "test_data = test_data.take(round(len(data)*.3))\n",
    "test_data = test_data.batch(16)\n",
    "test_data = test_data.prefetch(8)"
   ]
  },
  {
   "cell_type": "code",
   "execution_count": 21,
   "id": "c8770fda-f4cd-42ba-8134-337f23f66ead",
   "metadata": {},
   "outputs": [],
   "source": [
    "# creates embedding layer to convert data into a feature vector for the distance layer\n",
    "def make_embedding(): \n",
    "    inp = Input(shape=(100,100,3), name='input_image')\n",
    "    \n",
    "    c1 = Conv2D(64, (10,10), activation='relu')(inp)\n",
    "    m1 = MaxPooling2D(64, (2,2), padding='same')(c1)\n",
    "    \n",
    "    c2 = Conv2D(128, (7,7), activation='relu')(m1)\n",
    "    m2 = MaxPooling2D(64, (2,2), padding='same')(c2)\n",
    "    \n",
    "    c3 = Conv2D(128, (4,4), activation='relu')(m2)\n",
    "    m3 = MaxPooling2D(64, (2,2), padding='same')(c3)\n",
    "    \n",
    "    c4 = Conv2D(256, (4,4), activation='relu')(m3)\n",
    "    f1 = Flatten()(c4)\n",
    "    d1 = Dense(4096, activation='sigmoid')(f1)\n",
    "    \n",
    "    \n",
    "    return Model(inputs=[inp], outputs=[d1], name='embedding')"
   ]
  },
  {
   "cell_type": "code",
   "execution_count": 22,
   "id": "e912f52b-4264-47c4-976f-877e8855e186",
   "metadata": {},
   "outputs": [],
   "source": [
    "embedding = make_embedding()"
   ]
  },
  {
   "cell_type": "code",
   "execution_count": 23,
   "id": "9b7c7287-e4d1-4e13-9561-f1e5801a74cc",
   "metadata": {},
   "outputs": [],
   "source": [
    "# custom distance layer class, calculates similarity of anchor and positive/negative\n",
    "class L1Dist(Layer):\n",
    "    \n",
    "    def __init__(self, **kwargs):\n",
    "        super().__init__()\n",
    "       \n",
    "    def call(self, input_embedding, validation_embedding):\n",
    "        return tf.math.abs(input_embedding - validation_embedding)"
   ]
  },
  {
   "cell_type": "code",
   "execution_count": 24,
   "id": "63edad8d-7308-4dd1-b17f-a1a5fc1f08cd",
   "metadata": {},
   "outputs": [],
   "source": [
    "l1 = L1Dist()"
   ]
  },
  {
   "cell_type": "code",
   "execution_count": 25,
   "id": "ddb610b4-63e7-4d16-8f44-7c694e9253e4",
   "metadata": {},
   "outputs": [],
   "source": [
    "# Creates siamese model, takes 2 images, gets the distance between both embedded layers, returns it as a single output\n",
    "def make_siamese_model(): \n",
    "    \n",
    "    input_image = Input(name='input_img', shape=(100,100,3))\n",
    "    \n",
    "    validation_image = Input(name='validation_img', shape=(100,100,3))\n",
    "    \n",
    "    siamese_layer = L1Dist()\n",
    "    siamese_layer._name = 'distance'\n",
    "    distances = siamese_layer(embedding(input_image)[0], embedding(validation_image)[0])\n",
    "    \n",
    "    classifier = Dense(1, activation='sigmoid')(distances)\n",
    "    \n",
    "    return Model(inputs=[input_image, validation_image], outputs=classifier, name='SiameseNetwork')"
   ]
  },
  {
   "cell_type": "code",
   "execution_count": null,
   "id": "79259626-6974-4e91-9072-b65262a59469",
   "metadata": {},
   "outputs": [],
   "source": [
    "siamese_model = make_siamese_model()"
   ]
  },
  {
   "cell_type": "code",
   "execution_count": 18,
   "id": "225596bc-d5d1-468d-a66c-1a7cad778ed2",
   "metadata": {},
   "outputs": [],
   "source": [
    "# Training a batch: make a prediction, calculate the loss, calculate gradients, calculate new weights with back propegation with the neural network, apply"
   ]
  },
  {
   "cell_type": "code",
   "execution_count": 19,
   "id": "b1ebc5e9-f278-405d-be87-3c9d8fbd457b",
   "metadata": {},
   "outputs": [],
   "source": [
    "# loss function, gets difference between actual value and calculated value of matching\n",
    "binary_cross_loss = tf.losses.BinaryCrossentropy()"
   ]
  },
  {
   "cell_type": "code",
   "execution_count": 20,
   "id": "44263785-ed78-44cd-904f-d8db61e466ef",
   "metadata": {},
   "outputs": [],
   "source": [
    "# optimizer, minimizes loss and improves preformance\n",
    "opt = tf.keras.optimizers.Adam(1e-4)"
   ]
  },
  {
   "cell_type": "code",
   "execution_count": 21,
   "id": "0487654f-978d-495e-9de9-1a4abcadd9bf",
   "metadata": {},
   "outputs": [],
   "source": [
    "# creates checkpoints and a path for training\n",
    "checkpoint_dir = './training_checkpoints'\n",
    "checkpoint_prefix = os.path.join(checkpoint_dir, 'ckpt')\n",
    "checkpoint = tf.train.Checkpoint(opt=opt, siamese_model=siamese_model)"
   ]
  },
  {
   "cell_type": "code",
   "execution_count": 22,
   "id": "d038c221-dc91-4313-ba0f-a38cb3df1473",
   "metadata": {},
   "outputs": [],
   "source": [
    "# creates training function, gets all operations within the neural network to preform differentiation, takes anchor and positive/negative,\n",
    "# takes the lable, calculates the loss between the 2 images and the lable,gets the gradients for each wieght in respect to the loss, \n",
    "# optimizer changes wieghts to be closer to the actual value\n",
    "@tf.function\n",
    "def train_step(batch):\n",
    "    \n",
    "    with tf.GradientTape() as tape:     \n",
    "        X = batch[:2]\n",
    "        y = batch[2]\n",
    "        \n",
    "        yhat = siamese_model(X, training=True)\n",
    "        loss = binary_cross_loss(y, yhat)\n",
    "        \n",
    "    grad = tape.gradient(loss, siamese_model.trainable_variables)\n",
    "    \n",
    "    opt.apply_gradients(zip(grad, siamese_model.trainable_variables))\n",
    "        \n",
    "    return loss"
   ]
  },
  {
   "cell_type": "code",
   "execution_count": 23,
   "id": "45fecd9b-dfca-493d-8a05-e536ea5ca7a2",
   "metadata": {},
   "outputs": [],
   "source": [
    "# Loops through each epoch then each batch inside that epoch, applys training step to each batch, saves the checkpoint\n",
    "def train(data, EPOCHS):\n",
    "    for epoch in range(1, EPOCHS+1):\n",
    "        print('\\n Epoch {}/{}'.format(epoch, EPOCHS))\n",
    "        progbar = tf.keras.utils.Progbar(len(data))\n",
    "        \n",
    "        r = Recall()\n",
    "        p = Precision()\n",
    "        \n",
    "        for idx, batch in enumerate(data):\n",
    "            loss = train_step(batch)\n",
    "            yhat = siamese_model.predict(batch[:2])\n",
    "            r.update_state(batch[2], yhat)\n",
    "            p.update_state(batch[2], yhat) \n",
    "            progbar.update(idx+1)\n",
    "        print(loss.numpy(), r.result().numpy(), p.result().numpy())\n",
    "        \n",
    "        if epoch % 10 == 0: \n",
    "            checkpoint.save(file_prefix=checkpoint_prefix)"
   ]
  },
  {
   "cell_type": "code",
   "execution_count": 24,
   "id": "f3d88910-079a-46c1-a6e1-74cef0662a75",
   "metadata": {},
   "outputs": [],
   "source": [
    "EPOCHS = 50"
   ]
  },
  {
   "cell_type": "code",
   "execution_count": null,
   "id": "9b07090a-4428-435e-9494-461fade89128",
   "metadata": {
    "scrolled": true
   },
   "outputs": [],
   "source": [
    "train(train_data, EPOCHS)"
   ]
  },
  {
   "cell_type": "code",
   "execution_count": 30,
   "id": "09dcf57a-67b3-48c6-975f-481e02512385",
   "metadata": {},
   "outputs": [],
   "source": [
    "# Evaluating model, might not need later\n",
    "test_input, test_val, y_true = test_data.as_numpy_iterator().next()"
   ]
  },
  {
   "cell_type": "code",
   "execution_count": null,
   "id": "1d401c8d-8cad-4995-8fb3-3e047a5cb392",
   "metadata": {},
   "outputs": [],
   "source": [
    "y_hat = siamese_model.predict([test_input, test_val])"
   ]
  },
  {
   "cell_type": "code",
   "execution_count": null,
   "id": "3192d0c8-9105-4fb9-bcd9-f6f344e2bf13",
   "metadata": {},
   "outputs": [],
   "source": [
    "[1 if prediction > 0.5 else 0 for prediction in y_hat ]"
   ]
  },
  {
   "cell_type": "code",
   "execution_count": null,
   "id": "ab5a53f7-e55a-49fc-a2e4-432e5f15b350",
   "metadata": {},
   "outputs": [],
   "source": [
    "y_true"
   ]
  },
  {
   "cell_type": "code",
   "execution_count": null,
   "id": "85b79415-bd32-4718-b28b-92d657176b99",
   "metadata": {},
   "outputs": [],
   "source": [
    "# shows test images from the batch \n",
    "plt.figure(figsize=(10,8))\n",
    "\n",
    "plt.subplot(1,2,1)\n",
    "plt.imshow(test_input[0])\n",
    "\n",
    "plt.subplot(1,2,2)\n",
    "plt.imshow(test_val[0])\n",
    "\n",
    "plt.show()"
   ]
  },
  {
   "cell_type": "code",
   "execution_count": null,
   "id": "4541d7ed-3aa0-4356-be20-a47ae776c2a2",
   "metadata": {},
   "outputs": [],
   "source": [
    "# saves the model weights\n",
    "siamese_model.save('siamesemodelv2.h5')"
   ]
  },
  {
   "cell_type": "code",
   "execution_count": null,
   "id": "e1c39149-f3b5-4d09-8875-d5157e7d15df",
   "metadata": {},
   "outputs": [],
   "source": [
    "L1Dist"
   ]
  },
  {
   "cell_type": "code",
   "execution_count": null,
   "id": "562e4d94-0792-434e-a697-9d8da798f628",
   "metadata": {},
   "outputs": [],
   "source": [
    "# loads model\n",
    "siamese_model = tf.keras.models.load_model('siamesemodelv2.h5', custom_objects={'L1Dist':L1Dist, 'BinaryCrossentropy':tf.losses.BinaryCrossentropy})"
   ]
  },
  {
   "cell_type": "code",
   "execution_count": null,
   "id": "525896de-bcaf-4348-b16b-66dbc5919583",
   "metadata": {},
   "outputs": [],
   "source": [
    "# tests reloaded model\n",
    "siamese_model.predict([test_input, test_val])"
   ]
  },
  {
   "cell_type": "code",
   "execution_count": 32,
   "id": "5c031e26-bd54-4f4a-aef5-6b08a92c5691",
   "metadata": {},
   "outputs": [],
   "source": [
    "# calcs predictions of input/verif. images, checks how many have a prediction num greater than the detection threshold,\n",
    "# checks how many images are detected with a positive match and returns if the amount is greater than the verif. threshold\n",
    "def verify(model, detection_threshold, verification_threshold):\n",
    "    results = []\n",
    "    for image in os.listdir(os.path.join('app_data', 'verification_images')):\n",
    "        input_img = preprocess(os.path.join('app_data', 'input_image', 'input_image.jpg'))\n",
    "        validation_img = preprocess(os.path.join('app_data', 'verification_images', image))\n",
    "        \n",
    "        result = model.predict(list(np.expand_dims([input_img, validation_img], axis=1)))\n",
    "        results.append(result)\n",
    "    \n",
    "    detection = np.sum(np.array(results) > detection_threshold)\n",
    "    \n",
    "    verification = detection / len(os.listdir(os.path.join('app_data', 'verification_images'))) \n",
    "    verified = verification > verification_threshold\n",
    "    \n",
    "    return results, verified"
   ]
  },
  {
   "cell_type": "code",
   "execution_count": null,
   "id": "c9c43207-452e-4f17-9d0c-0c33846f4142",
   "metadata": {
    "scrolled": true
   },
   "outputs": [],
   "source": [
    "cap = cv2.VideoCapture(0)\n",
    "while cap.isOpened():\n",
    "    ret, frame = cap.read()\n",
    "    frame = frame[120:120+250,200:200+250, :]\n",
    "    \n",
    "    cv2.imshow('Verification', frame)\n",
    "    \n",
    "    if cv2.waitKey(10) & 0xFF == ord('v'):\n",
    "\n",
    "        cv2.imwrite(os.path.join('app_data', 'input_image', 'input_image.jpg'), frame)\n",
    "        results, verified = verify(siamese_model, 0.5, 0.5)\n",
    "        print(verified)\n",
    "    \n",
    "    if cv2.waitKey(10) & 0xFF == ord('q'):\n",
    "        break\n",
    "cap.release()\n",
    "cv2.destroyAllWindows()"
   ]
  },
  {
   "cell_type": "code",
   "execution_count": null,
   "id": "efa7e542-3795-4d3b-8808-e72279c178bb",
   "metadata": {},
   "outputs": [],
   "source": [
    "np.sum(np.squeeze(results) > 0.5)"
   ]
  },
  {
   "cell_type": "code",
   "execution_count": null,
   "id": "d3425ed2-249c-412d-b749-b889918a91d9",
   "metadata": {},
   "outputs": [],
   "source": [
    "results"
   ]
  },
  {
   "cell_type": "code",
   "execution_count": null,
   "id": "4ee64a85-2500-4147-beba-1985925b4b7e",
   "metadata": {},
   "outputs": [],
   "source": []
  }
 ],
 "metadata": {
  "kernelspec": {
   "display_name": "Python 3 (ipykernel)",
   "language": "python",
   "name": "python3"
  },
  "language_info": {
   "codemirror_mode": {
    "name": "ipython",
    "version": 3
   },
   "file_extension": ".py",
   "mimetype": "text/x-python",
   "name": "python",
   "nbconvert_exporter": "python",
   "pygments_lexer": "ipython3",
   "version": "3.11.4"
  }
 },
 "nbformat": 4,
 "nbformat_minor": 5
}
